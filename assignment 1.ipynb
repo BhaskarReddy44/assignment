{
 "cells": [
  {
   "cell_type": "code",
   "execution_count": 22,
   "metadata": {},
   "outputs": [
    {
     "name": "stdout",
     "output_type": "stream",
     "text": [
      "Enter a amount:2510\n",
      "2000 : 1\n",
      "500 : 1\n",
      "10 : 1\n"
     ]
    }
   ],
   "source": [
    "# program 1\n",
    "\n",
    "note=[2000,500,200,100,50,20,10,5,1]      \n",
    "noteCounter=[0,0,0,0,0,0,0,0,0] \n",
    "amount=int(input(\"Enter a amount:\"))\n",
    "for i,j in zip(note,noteCounter):\n",
    "    if amount >=i: \n",
    "        j = amount//i \n",
    "        amount = amount-j*i \n",
    "        print (i,\":\",j)\n"
   ]
  },
  {
   "cell_type": "code",
   "execution_count": 24,
   "metadata": {},
   "outputs": [
    {
     "name": "stdout",
     "output_type": "stream",
     "text": [
      "a\n"
     ]
    }
   ],
   "source": [
    "# program 2\n",
    "\n",
    "string=\"aaaaaaabbbbcccdddd\"\n",
    "#string=input(\"Enter a String: \")\n",
    "count = 0\n",
    "char =''\n",
    "for i in string:\n",
    "    if count < string.count(i):\n",
    "        count = string.count(i)\n",
    "        char = i\n",
    "print(char)\n"
   ]
  },
  {
   "cell_type": "code",
   "execution_count": 9,
   "metadata": {},
   "outputs": [
    {
     "name": "stdout",
     "output_type": "stream",
     "text": [
      "output = [1, 3, 5, 4]\n",
      "removed elements : 1\n"
     ]
    }
   ],
   "source": [
    "#program 3\n",
    "\n",
    "numbers=[1,3,5,4,2]\n",
    "count = 0\n",
    "for i in numbers:\n",
    "    if i % 2==0:\n",
    "        numbers.pop(i)\n",
    "        count += 1\n",
    "   \n",
    "print(\"output = \" + str(numbers))\n",
    "print(\"removed elements :\",count)\n"
   ]
  },
  {
   "cell_type": "code",
   "execution_count": 1,
   "metadata": {},
   "outputs": [
    {
     "name": "stdout",
     "output_type": "stream",
     "text": [
      "cities = {'Concord': ['New Hampshire', 'Massachusetts'], 'Hanover': 'New Hampshire', 'Boston': 'Massachusetts', 'Springfield': ['Massachusetts', 'Illinois'], 'Chicago': 'Illinois', 'Peoria': 'Illinois'}\n"
     ]
    }
   ],
   "source": [
    "# program 4\n",
    "\n",
    "states={'New Hampshire':['Concord','Hanover'],\n",
    "   'Massachusetts': ['Boston', 'Concord', 'Springfield'],\n",
    "   'Illinois': ['Chicago','Springfield','Peoria']}\n",
    "cities = {}\n",
    "for k,v in states.items():\n",
    "    for i in v:\n",
    "        if i in cities:\n",
    "            cities[i] = [cities[i],k]\n",
    "        else:\n",
    "            cities[i] = k;\n",
    "print(\"cities =\",cities)\n"
   ]
  },
  {
   "cell_type": "code",
   "execution_count": 27,
   "metadata": {},
   "outputs": [
    {
     "name": "stdout",
     "output_type": "stream",
     "text": [
      "Acme\n"
     ]
    }
   ],
   "source": [
    "# program 5\n",
    "\n",
    "restaurants=[[\"Acme\",\"Italian\",2,4,3,5],[\"Flistone\",\"steak\",5,2,4,3,3,4],[\"BellaTroy\",\"Italian\",1,4,5]]\n",
    "for i in restaurants:\n",
    "    if(i[1]==\"Italian\"):\n",
    "        if 1 not in i[2:] and 5 in i[2:]:\n",
    "            print(i[0])\n"
   ]
  },
  {
   "cell_type": "code",
   "execution_count": 2,
   "metadata": {},
   "outputs": [
    {
     "name": "stdout",
     "output_type": "stream",
     "text": [
      "zeke\n"
     ]
    }
   ],
   "source": [
    "# program 6\n",
    "\n",
    "d={2:[\"a\",\"b\",\"c\"],3:[\"d\",\"e\",\"f\"],4:[\"g\",\"h\",\"i\"],5:[\"j\",\"k\",\"l\"],6:[\"m\",\"n\",\"o\"],7:[\"p\",\"q\",\"r\",\"s\"],8:[\"t\",\"u\",\"v\"],9:[\"w\",\"x\",\"y\",\"z\"]}\n",
    "number=\"9999335533\"\n",
    "i=0\n",
    "count=1\n",
    "s=\"\"\n",
    "while(i<len(number)):\n",
    "    if(i<len(number)-1 and number[i]==number[i+1]):\n",
    "        count+=1\n",
    "    else:\n",
    "        s+=d[int(number[i])][count-1]\n",
    "        count=1\n",
    "    i+=1\n",
    "print(s)\n",
    "\n"
   ]
  },
  {
   "cell_type": "code",
   "execution_count": null,
   "metadata": {},
   "outputs": [],
   "source": []
  },
  {
   "cell_type": "code",
   "execution_count": null,
   "metadata": {},
   "outputs": [],
   "source": []
  },
  {
   "cell_type": "code",
   "execution_count": null,
   "metadata": {},
   "outputs": [],
   "source": []
  },
  {
   "cell_type": "code",
   "execution_count": null,
   "metadata": {},
   "outputs": [],
   "source": []
  }
 ],
 "metadata": {
  "kernelspec": {
   "display_name": "Python 3",
   "language": "python",
   "name": "python3"
  },
  "language_info": {
   "codemirror_mode": {
    "name": "ipython",
    "version": 3
   },
   "file_extension": ".py",
   "mimetype": "text/x-python",
   "name": "python",
   "nbconvert_exporter": "python",
   "pygments_lexer": "ipython3",
   "version": "3.7.2"
  }
 },
 "nbformat": 4,
 "nbformat_minor": 2
}
